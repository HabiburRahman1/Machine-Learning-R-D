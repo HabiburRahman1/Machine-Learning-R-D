{
 "cells": [
  {
   "cell_type": "code",
   "execution_count": 1,
   "id": "3161dff6",
   "metadata": {},
   "outputs": [],
   "source": [
    "import numpy as np # linear algebra\n",
    "import pandas as pd # data processing, CSV file I/O (e.g. pd.read_csv)"
   ]
  },
  {
   "cell_type": "code",
   "execution_count": 2,
   "id": "43d8d747",
   "metadata": {},
   "outputs": [
    {
     "data": {
      "text/html": [
       "<div>\n",
       "<style scoped>\n",
       "    .dataframe tbody tr th:only-of-type {\n",
       "        vertical-align: middle;\n",
       "    }\n",
       "\n",
       "    .dataframe tbody tr th {\n",
       "        vertical-align: top;\n",
       "    }\n",
       "\n",
       "    .dataframe thead th {\n",
       "        text-align: right;\n",
       "    }\n",
       "</style>\n",
       "<table border=\"1\" class=\"dataframe\">\n",
       "  <thead>\n",
       "    <tr style=\"text-align: right;\">\n",
       "      <th></th>\n",
       "      <th>EducationSector</th>\n",
       "      <th>IndividualProject</th>\n",
       "      <th>Age</th>\n",
       "      <th>Gender</th>\n",
       "      <th>City</th>\n",
       "      <th>Influenced</th>\n",
       "      <th>Perseverance</th>\n",
       "      <th>DesireToTakeInitiative</th>\n",
       "      <th>Competitiveness</th>\n",
       "      <th>SelfReliance</th>\n",
       "      <th>StrongNeedToAchieve</th>\n",
       "      <th>SelfConfidence</th>\n",
       "      <th>GoodPhysicalHealth</th>\n",
       "      <th>MentalDisorder</th>\n",
       "      <th>KeyTraits</th>\n",
       "      <th>ReasonsForLack</th>\n",
       "      <th>y</th>\n",
       "    </tr>\n",
       "  </thead>\n",
       "  <tbody>\n",
       "    <tr>\n",
       "      <th>0</th>\n",
       "      <td>Engineering Sciences</td>\n",
       "      <td>No</td>\n",
       "      <td>19</td>\n",
       "      <td>Male</td>\n",
       "      <td>Yes</td>\n",
       "      <td>No</td>\n",
       "      <td>2</td>\n",
       "      <td>2</td>\n",
       "      <td>3</td>\n",
       "      <td>3</td>\n",
       "      <td>2</td>\n",
       "      <td>2</td>\n",
       "      <td>3</td>\n",
       "      <td>Yes</td>\n",
       "      <td>Passion</td>\n",
       "      <td>NaN</td>\n",
       "      <td>1</td>\n",
       "    </tr>\n",
       "    <tr>\n",
       "      <th>1</th>\n",
       "      <td>Engineering Sciences</td>\n",
       "      <td>Yes</td>\n",
       "      <td>22</td>\n",
       "      <td>Male</td>\n",
       "      <td>No</td>\n",
       "      <td>Yes</td>\n",
       "      <td>3</td>\n",
       "      <td>3</td>\n",
       "      <td>3</td>\n",
       "      <td>4</td>\n",
       "      <td>4</td>\n",
       "      <td>3</td>\n",
       "      <td>4</td>\n",
       "      <td>Yes</td>\n",
       "      <td>Vision</td>\n",
       "      <td>Just not interested! (Want to work in the corp...</td>\n",
       "      <td>0</td>\n",
       "    </tr>\n",
       "    <tr>\n",
       "      <th>2</th>\n",
       "      <td>Engineering Sciences</td>\n",
       "      <td>No</td>\n",
       "      <td>18</td>\n",
       "      <td>Male</td>\n",
       "      <td>Yes</td>\n",
       "      <td>No</td>\n",
       "      <td>3</td>\n",
       "      <td>4</td>\n",
       "      <td>3</td>\n",
       "      <td>3</td>\n",
       "      <td>3</td>\n",
       "      <td>4</td>\n",
       "      <td>4</td>\n",
       "      <td>No</td>\n",
       "      <td>Passion</td>\n",
       "      <td>Not willing to start a venture in India and wa...</td>\n",
       "      <td>0</td>\n",
       "    </tr>\n",
       "    <tr>\n",
       "      <th>3</th>\n",
       "      <td>Engineering Sciences</td>\n",
       "      <td>Yes</td>\n",
       "      <td>20</td>\n",
       "      <td>Male</td>\n",
       "      <td>Yes</td>\n",
       "      <td>Yes</td>\n",
       "      <td>3</td>\n",
       "      <td>3</td>\n",
       "      <td>3</td>\n",
       "      <td>3</td>\n",
       "      <td>4</td>\n",
       "      <td>3</td>\n",
       "      <td>3</td>\n",
       "      <td>No</td>\n",
       "      <td>Resilience</td>\n",
       "      <td>Not able to take a Financial Risk</td>\n",
       "      <td>0</td>\n",
       "    </tr>\n",
       "    <tr>\n",
       "      <th>4</th>\n",
       "      <td>Engineering Sciences</td>\n",
       "      <td>Yes</td>\n",
       "      <td>19</td>\n",
       "      <td>Male</td>\n",
       "      <td>Yes</td>\n",
       "      <td>Yes</td>\n",
       "      <td>2</td>\n",
       "      <td>3</td>\n",
       "      <td>3</td>\n",
       "      <td>3</td>\n",
       "      <td>4</td>\n",
       "      <td>3</td>\n",
       "      <td>2</td>\n",
       "      <td>Yes</td>\n",
       "      <td>Vision</td>\n",
       "      <td>NaN</td>\n",
       "      <td>1</td>\n",
       "    </tr>\n",
       "    <tr>\n",
       "      <th>5</th>\n",
       "      <td>Engineering Sciences</td>\n",
       "      <td>No</td>\n",
       "      <td>19</td>\n",
       "      <td>Male</td>\n",
       "      <td>Yes</td>\n",
       "      <td>Yes</td>\n",
       "      <td>3</td>\n",
       "      <td>3</td>\n",
       "      <td>3</td>\n",
       "      <td>3</td>\n",
       "      <td>3</td>\n",
       "      <td>3</td>\n",
       "      <td>3</td>\n",
       "      <td>No</td>\n",
       "      <td>Positivity</td>\n",
       "      <td>NaN</td>\n",
       "      <td>1</td>\n",
       "    </tr>\n",
       "    <tr>\n",
       "      <th>6</th>\n",
       "      <td>Engineering Sciences</td>\n",
       "      <td>Yes</td>\n",
       "      <td>19</td>\n",
       "      <td>Male</td>\n",
       "      <td>Yes</td>\n",
       "      <td>Yes</td>\n",
       "      <td>3</td>\n",
       "      <td>2</td>\n",
       "      <td>3</td>\n",
       "      <td>3</td>\n",
       "      <td>4</td>\n",
       "      <td>1</td>\n",
       "      <td>1</td>\n",
       "      <td>No</td>\n",
       "      <td>Work Ethic</td>\n",
       "      <td>NaN</td>\n",
       "      <td>1</td>\n",
       "    </tr>\n",
       "    <tr>\n",
       "      <th>7</th>\n",
       "      <td>Engineering Sciences</td>\n",
       "      <td>No</td>\n",
       "      <td>20</td>\n",
       "      <td>Male</td>\n",
       "      <td>Yes</td>\n",
       "      <td>Yes</td>\n",
       "      <td>4</td>\n",
       "      <td>2</td>\n",
       "      <td>4</td>\n",
       "      <td>4</td>\n",
       "      <td>5</td>\n",
       "      <td>3</td>\n",
       "      <td>4</td>\n",
       "      <td>Yes</td>\n",
       "      <td>Work Ethic</td>\n",
       "      <td>Just not interested! (Want to work in the corp...</td>\n",
       "      <td>0</td>\n",
       "    </tr>\n",
       "    <tr>\n",
       "      <th>8</th>\n",
       "      <td>Others</td>\n",
       "      <td>Yes</td>\n",
       "      <td>20</td>\n",
       "      <td>Male</td>\n",
       "      <td>Yes</td>\n",
       "      <td>Yes</td>\n",
       "      <td>2</td>\n",
       "      <td>3</td>\n",
       "      <td>3</td>\n",
       "      <td>1</td>\n",
       "      <td>2</td>\n",
       "      <td>2</td>\n",
       "      <td>2</td>\n",
       "      <td>No</td>\n",
       "      <td>Passion</td>\n",
       "      <td>Academic Pressure, Lack of Knowledge, Not able...</td>\n",
       "      <td>0</td>\n",
       "    </tr>\n",
       "    <tr>\n",
       "      <th>9</th>\n",
       "      <td>Engineering Sciences</td>\n",
       "      <td>Yes</td>\n",
       "      <td>17</td>\n",
       "      <td>Male</td>\n",
       "      <td>Yes</td>\n",
       "      <td>Yes</td>\n",
       "      <td>2</td>\n",
       "      <td>3</td>\n",
       "      <td>2</td>\n",
       "      <td>1</td>\n",
       "      <td>4</td>\n",
       "      <td>3</td>\n",
       "      <td>3</td>\n",
       "      <td>Yes</td>\n",
       "      <td>Work Ethic</td>\n",
       "      <td>NaN</td>\n",
       "      <td>1</td>\n",
       "    </tr>\n",
       "  </tbody>\n",
       "</table>\n",
       "</div>"
      ],
      "text/plain": [
       "        EducationSector IndividualProject  Age Gender City Influenced  \\\n",
       "0  Engineering Sciences                No   19   Male  Yes         No   \n",
       "1  Engineering Sciences               Yes   22   Male   No        Yes   \n",
       "2  Engineering Sciences                No   18   Male  Yes         No   \n",
       "3  Engineering Sciences               Yes   20   Male  Yes        Yes   \n",
       "4  Engineering Sciences               Yes   19   Male  Yes        Yes   \n",
       "5  Engineering Sciences                No   19   Male  Yes        Yes   \n",
       "6  Engineering Sciences               Yes   19   Male  Yes        Yes   \n",
       "7  Engineering Sciences                No   20   Male  Yes        Yes   \n",
       "8                Others               Yes   20   Male  Yes        Yes   \n",
       "9  Engineering Sciences               Yes   17   Male  Yes        Yes   \n",
       "\n",
       "   Perseverance  DesireToTakeInitiative  Competitiveness  SelfReliance  \\\n",
       "0             2                       2                3             3   \n",
       "1             3                       3                3             4   \n",
       "2             3                       4                3             3   \n",
       "3             3                       3                3             3   \n",
       "4             2                       3                3             3   \n",
       "5             3                       3                3             3   \n",
       "6             3                       2                3             3   \n",
       "7             4                       2                4             4   \n",
       "8             2                       3                3             1   \n",
       "9             2                       3                2             1   \n",
       "\n",
       "   StrongNeedToAchieve  SelfConfidence  GoodPhysicalHealth MentalDisorder  \\\n",
       "0                    2               2                   3            Yes   \n",
       "1                    4               3                   4            Yes   \n",
       "2                    3               4                   4             No   \n",
       "3                    4               3                   3             No   \n",
       "4                    4               3                   2            Yes   \n",
       "5                    3               3                   3             No   \n",
       "6                    4               1                   1             No   \n",
       "7                    5               3                   4            Yes   \n",
       "8                    2               2                   2             No   \n",
       "9                    4               3                   3            Yes   \n",
       "\n",
       "    KeyTraits                                     ReasonsForLack  y  \n",
       "0     Passion                                                NaN  1  \n",
       "1      Vision  Just not interested! (Want to work in the corp...  0  \n",
       "2     Passion  Not willing to start a venture in India and wa...  0  \n",
       "3  Resilience                  Not able to take a Financial Risk  0  \n",
       "4      Vision                                                NaN  1  \n",
       "5  Positivity                                                NaN  1  \n",
       "6  Work Ethic                                                NaN  1  \n",
       "7  Work Ethic  Just not interested! (Want to work in the corp...  0  \n",
       "8     Passion  Academic Pressure, Lack of Knowledge, Not able...  0  \n",
       "9  Work Ethic                                                NaN  1  "
      ]
     },
     "execution_count": 2,
     "metadata": {},
     "output_type": "execute_result"
    }
   ],
   "source": [
    "df = pd.read_csv('data.csv')\n",
    "df.head(10)"
   ]
  },
  {
   "cell_type": "code",
   "execution_count": 3,
   "id": "dfea646d",
   "metadata": {},
   "outputs": [
    {
     "name": "stdout",
     "output_type": "stream",
     "text": [
      "EducationSector : ['Engineering Sciences' 'Others'\n",
      " 'Economic Sciences, Business Studies, Commerce and Law'\n",
      " 'Art, Music or Design' 'Humanities and Social Sciences'\n",
      " 'Medicine, Health Sciences' 'Teaching Degree (e.g., B.Ed)'\n",
      " 'Mathematics or Natural Sciences' 'Language and Cultural Studies']\n",
      "IndividualProject : ['No' 'Yes']\n",
      "Gender : ['Male' 'Female']\n",
      "City : ['Yes' 'No']\n",
      "Influenced : ['No' 'Yes']\n",
      "MentalDisorder : ['Yes' 'No']\n",
      "KeyTraits : ['Passion' 'Vision' 'Resilience' 'Positivity' 'Work Ethic']\n",
      "ReasonsForLack : [nan\n",
      " 'Just not interested! (Want to work in the corporate sector, or for the government or pursue research or something else)'\n",
      " 'Not willing to start a venture in India and waiting for future relocation'\n",
      " 'Not able to take a Financial Risk'\n",
      " 'Just not interested! (Want to work in the corporate sector, or for the government or pursue research or something else), Academic Pressure, Lack of Knowledge, Not able to take a Financial Risk'\n",
      " 'Academic Pressure, Lack of Knowledge, Not able to take a Financial Risk'\n",
      " 'Just not interested! (Want to work in the corporate sector, or for the government or pursue research or something else), Academic Pressure, Parental Pressure'\n",
      " 'Academic Pressure, Lack of Knowledge, Mental Block' 'Lack of Knowledge'\n",
      " 'Academic Pressure, Unwillingness to take risk, Lack of Knowledge'\n",
      " 'Just not interested! (Want to work in the corporate sector, or for the government or pursue research or something else), Lack of Knowledge, Parental Pressure, Mental Block'\n",
      " 'Unwillingness to take risk, Lack of Knowledge, Not able to take a Financial Risk'\n",
      " 'Just not interested! (Want to work in the corporate sector, or for the government or pursue research or something else), Unwillingness to take risk, Lack of Knowledge'\n",
      " 'Just not interested! (Want to work in the corporate sector, or for the government or pursue research or something else), Academic Pressure, Unwillingness to take risk, Lack of Knowledge, Parental Pressure, Not able to take a Financial Risk'\n",
      " 'Academic Pressure, Lack of Knowledge' 'Unwillingness to take risk'\n",
      " 'Academic Pressure, Lack of Knowledge, Parental Pressure, Mental Block, Not able to take a Financial Risk'\n",
      " 'Lack of Knowledge, Not willing to start a venture in India and waiting for future relocation'\n",
      " 'Academic Pressure'\n",
      " 'Just not interested! (Want to work in the corporate sector, or for the government or pursue research or something else), Academic Pressure, Unwillingness to take risk, Lack of Knowledge, Parental Pressure, Mental Block, Not able to take a Financial Risk, Not willing to start a venture in India and waiting for future relocation'\n",
      " 'Just not interested! (Want to work in the corporate sector, or for the government or pursue research or something else), Lack of Knowledge'\n",
      " 'Lack of Knowledge, Not able to take a Financial Risk'\n",
      " 'Lack of Knowledge, Parental Pressure'\n",
      " 'Just not interested! (Want to work in the corporate sector, or for the government or pursue research or something else), Not willing to start a venture in India and waiting for future relocation'\n",
      " 'Just not interested! (Want to work in the corporate sector, or for the government or pursue research or something else), Academic Pressure, Not able to take a Financial Risk'\n",
      " 'Parental Pressure, Not able to take a Financial Risk, Not willing to start a venture in India and waiting for future relocation'\n",
      " 'Just not interested! (Want to work in the corporate sector, or for the government or pursue research or something else), Academic Pressure, Lack of Knowledge'\n",
      " 'Academic Pressure, Not able to take a Financial Risk' 'Mental Block'\n",
      " 'Just not interested! (Want to work in the corporate sector, or for the government or pursue research or something else), Lack of Knowledge, Not able to take a Financial Risk, Not willing to start a venture in India and waiting for future relocation'\n",
      " 'Just not interested! (Want to work in the corporate sector, or for the government or pursue research or something else), Lack of Knowledge, Not able to take a Financial Risk'\n",
      " 'Academic Pressure, Unwillingness to take risk, Lack of Knowledge, Parental Pressure, Mental Block, Not able to take a Financial Risk, Not willing to start a venture in India and waiting for future relocation'\n",
      " 'Academic Pressure, Lack of Knowledge, Not able to take a Financial Risk, Not willing to start a venture in India and waiting for future relocation'\n",
      " 'Academic Pressure, Lack of Knowledge, Parental Pressure'\n",
      " 'Just not interested! (Want to work in the corporate sector, or for the government or pursue research or something else), Unwillingness to take risk'\n",
      " 'Academic Pressure, Unwillingness to take risk, Parental Pressure, Not able to take a Financial Risk'\n",
      " 'Not able to take a Financial Risk, Not willing to start a venture in India and waiting for future relocation'\n",
      " 'Lack of Knowledge, Parental Pressure, Mental Block, Not able to take a Financial Risk'\n",
      " 'Academic Pressure, Unwillingness to take risk, Not able to take a Financial Risk'\n",
      " 'Parental Pressure'\n",
      " 'Just not interested! (Want to work in the corporate sector, or for the government or pursue research or something else), Not able to take a Financial Risk'\n",
      " 'Just not interested! (Want to work in the corporate sector, or for the government or pursue research or something else), Academic Pressure, Lack of Knowledge, Parental Pressure, Not able to take a Financial Risk'\n",
      " 'Lack of Knowledge, Mental Block, Not able to take a Financial Risk'\n",
      " 'Lack of Knowledge, Mental Block'\n",
      " 'Just not interested! (Want to work in the corporate sector, or for the government or pursue research or something else), Academic Pressure']\n"
     ]
    }
   ],
   "source": [
    "#checking categorical values\n",
    "for i in df.columns:\n",
    "    \n",
    "    if df[i].dtype not in ['int64', 'float64']:\n",
    "        print(f\"{i} : {df[i].unique()}\")"
   ]
  },
  {
   "cell_type": "code",
   "execution_count": 4,
   "id": "8ca92bcc",
   "metadata": {},
   "outputs": [],
   "source": [
    "encode_dummies = ['IndividualProject', 'Gender', 'City','Influenced', 'MentalDisorder']\n",
    "encode_label = ['EducationSector', 'KeyTraits']\n",
    "df_new = pd.get_dummies(df, columns = encode_dummies)"
   ]
  },
  {
   "cell_type": "code",
   "execution_count": 5,
   "id": "e2ec2847",
   "metadata": {},
   "outputs": [],
   "source": [
    "from sklearn.preprocessing import LabelEncoder\n",
    "le= LabelEncoder()    \n",
    "df_new['EducationSector'] = le.fit_transform(df_new['EducationSector'])\n",
    "df_new['KeyTraits'] = le.fit_transform(df_new['KeyTraits'])"
   ]
  },
  {
   "cell_type": "code",
   "execution_count": 6,
   "id": "1d4aec68",
   "metadata": {},
   "outputs": [
    {
     "data": {
      "text/html": [
       "<div>\n",
       "<style scoped>\n",
       "    .dataframe tbody tr th:only-of-type {\n",
       "        vertical-align: middle;\n",
       "    }\n",
       "\n",
       "    .dataframe tbody tr th {\n",
       "        vertical-align: top;\n",
       "    }\n",
       "\n",
       "    .dataframe thead th {\n",
       "        text-align: right;\n",
       "    }\n",
       "</style>\n",
       "<table border=\"1\" class=\"dataframe\">\n",
       "  <thead>\n",
       "    <tr style=\"text-align: right;\">\n",
       "      <th></th>\n",
       "      <th>EducationSector</th>\n",
       "      <th>Age</th>\n",
       "      <th>Perseverance</th>\n",
       "      <th>DesireToTakeInitiative</th>\n",
       "      <th>Competitiveness</th>\n",
       "      <th>SelfReliance</th>\n",
       "      <th>StrongNeedToAchieve</th>\n",
       "      <th>SelfConfidence</th>\n",
       "      <th>GoodPhysicalHealth</th>\n",
       "      <th>KeyTraits</th>\n",
       "      <th>...</th>\n",
       "      <th>IndividualProject_No</th>\n",
       "      <th>IndividualProject_Yes</th>\n",
       "      <th>Gender_Female</th>\n",
       "      <th>Gender_Male</th>\n",
       "      <th>City_No</th>\n",
       "      <th>City_Yes</th>\n",
       "      <th>Influenced_No</th>\n",
       "      <th>Influenced_Yes</th>\n",
       "      <th>MentalDisorder_No</th>\n",
       "      <th>MentalDisorder_Yes</th>\n",
       "    </tr>\n",
       "  </thead>\n",
       "  <tbody>\n",
       "    <tr>\n",
       "      <th>0</th>\n",
       "      <td>2</td>\n",
       "      <td>19</td>\n",
       "      <td>2</td>\n",
       "      <td>2</td>\n",
       "      <td>3</td>\n",
       "      <td>3</td>\n",
       "      <td>2</td>\n",
       "      <td>2</td>\n",
       "      <td>3</td>\n",
       "      <td>0</td>\n",
       "      <td>...</td>\n",
       "      <td>1</td>\n",
       "      <td>0</td>\n",
       "      <td>0</td>\n",
       "      <td>1</td>\n",
       "      <td>0</td>\n",
       "      <td>1</td>\n",
       "      <td>1</td>\n",
       "      <td>0</td>\n",
       "      <td>0</td>\n",
       "      <td>1</td>\n",
       "    </tr>\n",
       "    <tr>\n",
       "      <th>1</th>\n",
       "      <td>2</td>\n",
       "      <td>22</td>\n",
       "      <td>3</td>\n",
       "      <td>3</td>\n",
       "      <td>3</td>\n",
       "      <td>4</td>\n",
       "      <td>4</td>\n",
       "      <td>3</td>\n",
       "      <td>4</td>\n",
       "      <td>3</td>\n",
       "      <td>...</td>\n",
       "      <td>0</td>\n",
       "      <td>1</td>\n",
       "      <td>0</td>\n",
       "      <td>1</td>\n",
       "      <td>1</td>\n",
       "      <td>0</td>\n",
       "      <td>0</td>\n",
       "      <td>1</td>\n",
       "      <td>0</td>\n",
       "      <td>1</td>\n",
       "    </tr>\n",
       "    <tr>\n",
       "      <th>2</th>\n",
       "      <td>2</td>\n",
       "      <td>18</td>\n",
       "      <td>3</td>\n",
       "      <td>4</td>\n",
       "      <td>3</td>\n",
       "      <td>3</td>\n",
       "      <td>3</td>\n",
       "      <td>4</td>\n",
       "      <td>4</td>\n",
       "      <td>0</td>\n",
       "      <td>...</td>\n",
       "      <td>1</td>\n",
       "      <td>0</td>\n",
       "      <td>0</td>\n",
       "      <td>1</td>\n",
       "      <td>0</td>\n",
       "      <td>1</td>\n",
       "      <td>1</td>\n",
       "      <td>0</td>\n",
       "      <td>1</td>\n",
       "      <td>0</td>\n",
       "    </tr>\n",
       "    <tr>\n",
       "      <th>3</th>\n",
       "      <td>2</td>\n",
       "      <td>20</td>\n",
       "      <td>3</td>\n",
       "      <td>3</td>\n",
       "      <td>3</td>\n",
       "      <td>3</td>\n",
       "      <td>4</td>\n",
       "      <td>3</td>\n",
       "      <td>3</td>\n",
       "      <td>2</td>\n",
       "      <td>...</td>\n",
       "      <td>0</td>\n",
       "      <td>1</td>\n",
       "      <td>0</td>\n",
       "      <td>1</td>\n",
       "      <td>0</td>\n",
       "      <td>1</td>\n",
       "      <td>0</td>\n",
       "      <td>1</td>\n",
       "      <td>1</td>\n",
       "      <td>0</td>\n",
       "    </tr>\n",
       "    <tr>\n",
       "      <th>4</th>\n",
       "      <td>2</td>\n",
       "      <td>19</td>\n",
       "      <td>2</td>\n",
       "      <td>3</td>\n",
       "      <td>3</td>\n",
       "      <td>3</td>\n",
       "      <td>4</td>\n",
       "      <td>3</td>\n",
       "      <td>2</td>\n",
       "      <td>3</td>\n",
       "      <td>...</td>\n",
       "      <td>0</td>\n",
       "      <td>1</td>\n",
       "      <td>0</td>\n",
       "      <td>1</td>\n",
       "      <td>0</td>\n",
       "      <td>1</td>\n",
       "      <td>0</td>\n",
       "      <td>1</td>\n",
       "      <td>0</td>\n",
       "      <td>1</td>\n",
       "    </tr>\n",
       "  </tbody>\n",
       "</table>\n",
       "<p>5 rows × 22 columns</p>\n",
       "</div>"
      ],
      "text/plain": [
       "   EducationSector  Age  Perseverance  DesireToTakeInitiative  \\\n",
       "0                2   19             2                       2   \n",
       "1                2   22             3                       3   \n",
       "2                2   18             3                       4   \n",
       "3                2   20             3                       3   \n",
       "4                2   19             2                       3   \n",
       "\n",
       "   Competitiveness  SelfReliance  StrongNeedToAchieve  SelfConfidence  \\\n",
       "0                3             3                    2               2   \n",
       "1                3             4                    4               3   \n",
       "2                3             3                    3               4   \n",
       "3                3             3                    4               3   \n",
       "4                3             3                    4               3   \n",
       "\n",
       "   GoodPhysicalHealth  KeyTraits  ... IndividualProject_No  \\\n",
       "0                   3          0  ...                    1   \n",
       "1                   4          3  ...                    0   \n",
       "2                   4          0  ...                    1   \n",
       "3                   3          2  ...                    0   \n",
       "4                   2          3  ...                    0   \n",
       "\n",
       "   IndividualProject_Yes  Gender_Female  Gender_Male  City_No  City_Yes  \\\n",
       "0                      0              0            1        0         1   \n",
       "1                      1              0            1        1         0   \n",
       "2                      0              0            1        0         1   \n",
       "3                      1              0            1        0         1   \n",
       "4                      1              0            1        0         1   \n",
       "\n",
       "   Influenced_No  Influenced_Yes  MentalDisorder_No  MentalDisorder_Yes  \n",
       "0              1               0                  0                   1  \n",
       "1              0               1                  0                   1  \n",
       "2              1               0                  1                   0  \n",
       "3              0               1                  1                   0  \n",
       "4              0               1                  0                   1  \n",
       "\n",
       "[5 rows x 22 columns]"
      ]
     },
     "execution_count": 6,
     "metadata": {},
     "output_type": "execute_result"
    }
   ],
   "source": [
    "df_new.head()"
   ]
  },
  {
   "cell_type": "code",
   "execution_count": 7,
   "id": "171048c2",
   "metadata": {},
   "outputs": [
    {
     "data": {
      "text/plain": [
       "2    123\n",
       "1     32\n",
       "0     21\n",
       "7     20\n",
       "6     10\n",
       "3      5\n",
       "5      4\n",
       "8      3\n",
       "4      1\n",
       "Name: EducationSector, dtype: int64"
      ]
     },
     "execution_count": 7,
     "metadata": {},
     "output_type": "execute_result"
    }
   ],
   "source": [
    "df_new['EducationSector'].value_counts()"
   ]
  },
  {
   "cell_type": "code",
   "execution_count": 8,
   "id": "044cb126",
   "metadata": {},
   "outputs": [
    {
     "name": "stdout",
     "output_type": "stream",
     "text": [
      "<class 'pandas.core.frame.DataFrame'>\n",
      "RangeIndex: 219 entries, 0 to 218\n",
      "Data columns (total 22 columns):\n",
      " #   Column                  Non-Null Count  Dtype \n",
      "---  ------                  --------------  ----- \n",
      " 0   EducationSector         219 non-null    int64 \n",
      " 1   Age                     219 non-null    int64 \n",
      " 2   Perseverance            219 non-null    int64 \n",
      " 3   DesireToTakeInitiative  219 non-null    int64 \n",
      " 4   Competitiveness         219 non-null    int64 \n",
      " 5   SelfReliance            219 non-null    int64 \n",
      " 6   StrongNeedToAchieve     219 non-null    int64 \n",
      " 7   SelfConfidence          219 non-null    int64 \n",
      " 8   GoodPhysicalHealth      219 non-null    int64 \n",
      " 9   KeyTraits               219 non-null    int64 \n",
      " 10  ReasonsForLack          128 non-null    object\n",
      " 11  y                       219 non-null    int64 \n",
      " 12  IndividualProject_No    219 non-null    uint8 \n",
      " 13  IndividualProject_Yes   219 non-null    uint8 \n",
      " 14  Gender_Female           219 non-null    uint8 \n",
      " 15  Gender_Male             219 non-null    uint8 \n",
      " 16  City_No                 219 non-null    uint8 \n",
      " 17  City_Yes                219 non-null    uint8 \n",
      " 18  Influenced_No           219 non-null    uint8 \n",
      " 19  Influenced_Yes          219 non-null    uint8 \n",
      " 20  MentalDisorder_No       219 non-null    uint8 \n",
      " 21  MentalDisorder_Yes      219 non-null    uint8 \n",
      "dtypes: int64(11), object(1), uint8(10)\n",
      "memory usage: 22.8+ KB\n"
     ]
    }
   ],
   "source": [
    "df_new.info()"
   ]
  },
  {
   "cell_type": "code",
   "execution_count": 10,
   "id": "a9b633f2",
   "metadata": {},
   "outputs": [
    {
     "name": "stderr",
     "output_type": "stream",
     "text": [
      "[nltk_data] Downloading package stopwords to /home/habib/nltk_data...\n"
     ]
    },
    {
     "name": "stdout",
     "output_type": "stream",
     "text": [
      "{'are', 'both', 'itself', 'hadn', \"you'll\", \"haven't\", 'his', 'until', 'out', \"wouldn't\", 'haven', \"hasn't\", 'has', \"shouldn't\", \"weren't\", 'she', 'it', 'you', 'yours', 'or', 'of', 'ours', 'them', 'into', 'other', 'd', 'o', \"didn't\", 'very', 'don', 'on', \"shan't\", 'himself', 'having', 'further', 'here', 'up', 'did', 'these', 'once', 'weren', 'how', 'this', 'most', 'won', 'yourself', 'because', 'its', 'now', 'my', 'll', 'ain', 'wasn', 'and', 'can', 'who', \"don't\", 'those', 'above', \"she's\", 'own', 'am', 'hasn', 'mightn', 'ma', \"mightn't\", 'their', 'few', 'that', 'shouldn', 'is', 'should', \"doesn't\", 'over', \"mustn't\", 'myself', \"hadn't\", 'be', 'our', 'such', 'but', 'any', \"should've\", 'before', 'will', 'been', 'which', 'doing', 'hers', 'had', 'yourselves', 'herself', 'have', 'about', 'again', 'each', 'wouldn', \"aren't\", \"isn't\", 's', 'shan', 'then', 'y', 'than', 'were', \"that'll\", 'below', 'a', 'more', 'whom', 'so', 'him', 'when', 'not', 'me', 'i', 'couldn', 'off', 'if', 'was', 'in', 'an', 'between', 'with', 'mustn', 'all', \"needn't\", 'being', 'her', 'what', 'against', 'some', 'for', 'under', 'aren', 'where', 'needn', 'theirs', 'they', \"you'd\", 'no', 'too', \"wasn't\", 'isn', 't', 'doesn', 'as', 'to', 'why', 're', \"it's\", 've', 'the', 'during', 'just', 'after', \"you've\", 'he', 'from', \"couldn't\", \"won't\", 'by', 'only', 'm', 'ourselves', 'at', 'same', 'down', 'does', 'your', 'we', 'themselves', 'there', 'while', 'do', 'nor', 'through', 'didn', \"you're\"}\n"
     ]
    },
    {
     "name": "stderr",
     "output_type": "stream",
     "text": [
      "[nltk_data]   Unzipping corpora/stopwords.zip.\n"
     ]
    }
   ],
   "source": [
    "import nltk\n",
    "nltk.download('stopwords')\n",
    "from nltk.tokenize import word_tokenize\n",
    "from nltk.corpus import stopwords\n",
    "from string import punctuation\n",
    "stopwords = set(stopwords.words('english'))\n",
    "import string\n",
    "\n",
    "df2 = df_new[['ReasonsForLack']]\n",
    "df2 = df2.dropna()\n",
    "\n",
    "print(stopwords)"
   ]
  },
  {
   "cell_type": "code",
   "execution_count": 11,
   "id": "683266ca",
   "metadata": {},
   "outputs": [],
   "source": [
    "df2['ReasonsForLack'] = df2['ReasonsForLack'].str.lower().str.split()\n",
    "df2['ReasonsForLack'] =df2['ReasonsForLack'].apply(lambda x: [item for item in x if item not in stopwords])\n",
    "df2['ReasonsForLack'] = df2['ReasonsForLack'].apply(lambda x : [item.translate(str.maketrans('', '', string.punctuation)) for item in x])"
   ]
  },
  {
   "cell_type": "code",
   "execution_count": 13,
   "id": "41576309",
   "metadata": {},
   "outputs": [
    {
     "data": {
      "text/plain": [
       "1      [interested, want, work, corporate, sector, go...\n",
       "2      [willing, start, venture, india, waiting, futu...\n",
       "3                          [able, take, financial, risk]\n",
       "7      [interested, want, work, corporate, sector, go...\n",
       "8      [academic, pressure, lack, knowledge, able, ta...\n",
       "                             ...                        \n",
       "206    [interested, want, work, corporate, sector, go...\n",
       "209                     [lack, knowledge, mental, block]\n",
       "213    [interested, want, work, corporate, sector, go...\n",
       "215    [interested, want, work, corporate, sector, go...\n",
       "217                                    [lack, knowledge]\n",
       "Name: ReasonsForLack, Length: 128, dtype: object"
      ]
     },
     "execution_count": 13,
     "metadata": {},
     "output_type": "execute_result"
    }
   ],
   "source": [
    "df2['ReasonsForLack']"
   ]
  },
  {
   "cell_type": "code",
   "execution_count": 14,
   "id": "1f92850f",
   "metadata": {},
   "outputs": [
    {
     "data": {
      "text/html": [
       "<div>\n",
       "<style scoped>\n",
       "    .dataframe tbody tr th:only-of-type {\n",
       "        vertical-align: middle;\n",
       "    }\n",
       "\n",
       "    .dataframe tbody tr th {\n",
       "        vertical-align: top;\n",
       "    }\n",
       "\n",
       "    .dataframe thead th {\n",
       "        text-align: right;\n",
       "    }\n",
       "</style>\n",
       "<table border=\"1\" class=\"dataframe\">\n",
       "  <thead>\n",
       "    <tr style=\"text-align: right;\">\n",
       "      <th></th>\n",
       "      <th>ReasonsForLack</th>\n",
       "    </tr>\n",
       "  </thead>\n",
       "  <tbody>\n",
       "    <tr>\n",
       "      <th>1</th>\n",
       "      <td>interested</td>\n",
       "    </tr>\n",
       "    <tr>\n",
       "      <th>1</th>\n",
       "      <td>want</td>\n",
       "    </tr>\n",
       "    <tr>\n",
       "      <th>1</th>\n",
       "      <td>work</td>\n",
       "    </tr>\n",
       "    <tr>\n",
       "      <th>1</th>\n",
       "      <td>corporate</td>\n",
       "    </tr>\n",
       "    <tr>\n",
       "      <th>1</th>\n",
       "      <td>sector</td>\n",
       "    </tr>\n",
       "    <tr>\n",
       "      <th>...</th>\n",
       "      <td>...</td>\n",
       "    </tr>\n",
       "    <tr>\n",
       "      <th>215</th>\n",
       "      <td>else</td>\n",
       "    </tr>\n",
       "    <tr>\n",
       "      <th>215</th>\n",
       "      <td>academic</td>\n",
       "    </tr>\n",
       "    <tr>\n",
       "      <th>215</th>\n",
       "      <td>pressure</td>\n",
       "    </tr>\n",
       "    <tr>\n",
       "      <th>217</th>\n",
       "      <td>lack</td>\n",
       "    </tr>\n",
       "    <tr>\n",
       "      <th>217</th>\n",
       "      <td>knowledge</td>\n",
       "    </tr>\n",
       "  </tbody>\n",
       "</table>\n",
       "<p>1142 rows × 1 columns</p>\n",
       "</div>"
      ],
      "text/plain": [
       "    ReasonsForLack\n",
       "1       interested\n",
       "1             want\n",
       "1             work\n",
       "1        corporate\n",
       "1           sector\n",
       "..             ...\n",
       "215           else\n",
       "215       academic\n",
       "215       pressure\n",
       "217           lack\n",
       "217      knowledge\n",
       "\n",
       "[1142 rows x 1 columns]"
      ]
     },
     "execution_count": 14,
     "metadata": {},
     "output_type": "execute_result"
    }
   ],
   "source": [
    "df2explode=pd.DataFrame(df2['ReasonsForLack'].explode())\n",
    "df2explode"
   ]
  },
  {
   "cell_type": "code",
   "execution_count": 16,
   "id": "5366ffe8",
   "metadata": {},
   "outputs": [],
   "source": [
    "import matplotlib.pyplot as plt\n",
    "from wordcloud import WordCloud"
   ]
  },
  {
   "cell_type": "code",
   "execution_count": 17,
   "id": "f35dcba3",
   "metadata": {},
   "outputs": [
    {
     "data": {
      "text/plain": [
       "ReasonsForLack\n",
       "work              63\n",
       "pursue            63\n",
       "want              63\n",
       "corporate         63\n",
       "else              63\n",
       "something         63\n",
       "sector            63\n",
       "government        63\n",
       "research          63\n",
       "interested        63\n",
       "pressure          50\n",
       "risk              49\n",
       "take              49\n",
       "lack              44\n",
       "knowledge         44\n",
       "academic          36\n",
       "financial         33\n",
       "able              33\n",
       "india             18\n",
       "relocation        18\n",
       "future            18\n",
       "start             18\n",
       "venture           18\n",
       "waiting           18\n",
       "willing           18\n",
       "unwillingness     16\n",
       "parental          14\n",
       "mental             9\n",
       "block              9\n",
       "dtype: int64"
      ]
     },
     "execution_count": 17,
     "metadata": {},
     "output_type": "execute_result"
    }
   ],
   "source": [
    "df2explode.value_counts()"
   ]
  },
  {
   "cell_type": "code",
   "execution_count": 18,
   "id": "31e53fb7",
   "metadata": {},
   "outputs": [],
   "source": [
    "df2wordcount=pd.DataFrame(df2explode.groupby('ReasonsForLack')['ReasonsForLack'].count().sort_values(ascending=False))"
   ]
  },
  {
   "cell_type": "code",
   "execution_count": 19,
   "id": "efff8ba5",
   "metadata": {},
   "outputs": [],
   "source": [
    "df2wordcount=df2wordcount.rename(columns={'ReasonsForLack': 'count'})\n",
    "df2wordcount.index = df2wordcount.index.rename('Word')"
   ]
  },
  {
   "cell_type": "code",
   "execution_count": 20,
   "id": "8e6c6d59",
   "metadata": {},
   "outputs": [
    {
     "data": {
      "text/html": [
       "<div>\n",
       "<style scoped>\n",
       "    .dataframe tbody tr th:only-of-type {\n",
       "        vertical-align: middle;\n",
       "    }\n",
       "\n",
       "    .dataframe tbody tr th {\n",
       "        vertical-align: top;\n",
       "    }\n",
       "\n",
       "    .dataframe thead th {\n",
       "        text-align: right;\n",
       "    }\n",
       "</style>\n",
       "<table border=\"1\" class=\"dataframe\">\n",
       "  <thead>\n",
       "    <tr style=\"text-align: right;\">\n",
       "      <th></th>\n",
       "      <th>Word</th>\n",
       "      <th>count</th>\n",
       "    </tr>\n",
       "  </thead>\n",
       "  <tbody>\n",
       "    <tr>\n",
       "      <th>0</th>\n",
       "      <td>work</td>\n",
       "      <td>63</td>\n",
       "    </tr>\n",
       "    <tr>\n",
       "      <th>1</th>\n",
       "      <td>pursue</td>\n",
       "      <td>63</td>\n",
       "    </tr>\n",
       "    <tr>\n",
       "      <th>2</th>\n",
       "      <td>want</td>\n",
       "      <td>63</td>\n",
       "    </tr>\n",
       "    <tr>\n",
       "      <th>3</th>\n",
       "      <td>corporate</td>\n",
       "      <td>63</td>\n",
       "    </tr>\n",
       "    <tr>\n",
       "      <th>4</th>\n",
       "      <td>else</td>\n",
       "      <td>63</td>\n",
       "    </tr>\n",
       "    <tr>\n",
       "      <th>5</th>\n",
       "      <td>something</td>\n",
       "      <td>63</td>\n",
       "    </tr>\n",
       "    <tr>\n",
       "      <th>6</th>\n",
       "      <td>sector</td>\n",
       "      <td>63</td>\n",
       "    </tr>\n",
       "    <tr>\n",
       "      <th>7</th>\n",
       "      <td>government</td>\n",
       "      <td>63</td>\n",
       "    </tr>\n",
       "    <tr>\n",
       "      <th>8</th>\n",
       "      <td>research</td>\n",
       "      <td>63</td>\n",
       "    </tr>\n",
       "    <tr>\n",
       "      <th>9</th>\n",
       "      <td>interested</td>\n",
       "      <td>63</td>\n",
       "    </tr>\n",
       "    <tr>\n",
       "      <th>10</th>\n",
       "      <td>pressure</td>\n",
       "      <td>50</td>\n",
       "    </tr>\n",
       "    <tr>\n",
       "      <th>11</th>\n",
       "      <td>risk</td>\n",
       "      <td>49</td>\n",
       "    </tr>\n",
       "    <tr>\n",
       "      <th>12</th>\n",
       "      <td>take</td>\n",
       "      <td>49</td>\n",
       "    </tr>\n",
       "    <tr>\n",
       "      <th>13</th>\n",
       "      <td>lack</td>\n",
       "      <td>44</td>\n",
       "    </tr>\n",
       "    <tr>\n",
       "      <th>14</th>\n",
       "      <td>knowledge</td>\n",
       "      <td>44</td>\n",
       "    </tr>\n",
       "    <tr>\n",
       "      <th>15</th>\n",
       "      <td>academic</td>\n",
       "      <td>36</td>\n",
       "    </tr>\n",
       "    <tr>\n",
       "      <th>16</th>\n",
       "      <td>financial</td>\n",
       "      <td>33</td>\n",
       "    </tr>\n",
       "    <tr>\n",
       "      <th>17</th>\n",
       "      <td>able</td>\n",
       "      <td>33</td>\n",
       "    </tr>\n",
       "    <tr>\n",
       "      <th>18</th>\n",
       "      <td>india</td>\n",
       "      <td>18</td>\n",
       "    </tr>\n",
       "    <tr>\n",
       "      <th>19</th>\n",
       "      <td>relocation</td>\n",
       "      <td>18</td>\n",
       "    </tr>\n",
       "    <tr>\n",
       "      <th>20</th>\n",
       "      <td>future</td>\n",
       "      <td>18</td>\n",
       "    </tr>\n",
       "    <tr>\n",
       "      <th>21</th>\n",
       "      <td>start</td>\n",
       "      <td>18</td>\n",
       "    </tr>\n",
       "    <tr>\n",
       "      <th>22</th>\n",
       "      <td>venture</td>\n",
       "      <td>18</td>\n",
       "    </tr>\n",
       "    <tr>\n",
       "      <th>23</th>\n",
       "      <td>waiting</td>\n",
       "      <td>18</td>\n",
       "    </tr>\n",
       "    <tr>\n",
       "      <th>24</th>\n",
       "      <td>willing</td>\n",
       "      <td>18</td>\n",
       "    </tr>\n",
       "    <tr>\n",
       "      <th>25</th>\n",
       "      <td>unwillingness</td>\n",
       "      <td>16</td>\n",
       "    </tr>\n",
       "    <tr>\n",
       "      <th>26</th>\n",
       "      <td>parental</td>\n",
       "      <td>14</td>\n",
       "    </tr>\n",
       "    <tr>\n",
       "      <th>27</th>\n",
       "      <td>mental</td>\n",
       "      <td>9</td>\n",
       "    </tr>\n",
       "    <tr>\n",
       "      <th>28</th>\n",
       "      <td>block</td>\n",
       "      <td>9</td>\n",
       "    </tr>\n",
       "  </tbody>\n",
       "</table>\n",
       "</div>"
      ],
      "text/plain": [
       "             Word  count\n",
       "0            work     63\n",
       "1          pursue     63\n",
       "2            want     63\n",
       "3       corporate     63\n",
       "4            else     63\n",
       "5       something     63\n",
       "6          sector     63\n",
       "7      government     63\n",
       "8        research     63\n",
       "9      interested     63\n",
       "10       pressure     50\n",
       "11           risk     49\n",
       "12           take     49\n",
       "13           lack     44\n",
       "14      knowledge     44\n",
       "15       academic     36\n",
       "16      financial     33\n",
       "17           able     33\n",
       "18          india     18\n",
       "19     relocation     18\n",
       "20         future     18\n",
       "21          start     18\n",
       "22        venture     18\n",
       "23        waiting     18\n",
       "24        willing     18\n",
       "25  unwillingness     16\n",
       "26       parental     14\n",
       "27         mental      9\n",
       "28          block      9"
      ]
     },
     "execution_count": 20,
     "metadata": {},
     "output_type": "execute_result"
    }
   ],
   "source": [
    "df2wordcount =df2wordcount.reset_index()\n",
    "df2wordcount"
   ]
  },
  {
   "cell_type": "code",
   "execution_count": 21,
   "id": "55b10131",
   "metadata": {},
   "outputs": [
    {
     "data": {
      "text/plain": [
       "<AxesSubplot:xlabel='Word'>"
      ]
     },
     "execution_count": 21,
     "metadata": {},
     "output_type": "execute_result"
    },
    {
     "data": {
      "image/png": "[encoded data removed]",
      "text/plain": [
       "<Figure size 432x288 with 1 Axes>"
      ]
     },
     "metadata": {
      "needs_background": "light"
     },
     "output_type": "display_data"
    }
   ],
   "source": [
    "df2wordcount.plot.bar(x='Word')"
   ]
  },
  {
   "cell_type": "code",
   "execution_count": 22,
   "id": "0db775f5",
   "metadata": {},
   "outputs": [
    {
     "data": {
      "text/plain": [
       "<AxesSubplot:xlabel='count', ylabel='Word'>"
      ]
     },
     "execution_count": 22,
     "metadata": {},
     "output_type": "execute_result"
    },
    {
     "data": {
      "image/png": "[encoded data removed]",
      "text/plain": [
       "<Figure size 432x288 with 1 Axes>"
      ]
     },
     "metadata": {
      "needs_background": "light"
     },
     "output_type": "display_data"
    }
   ],
   "source": [
    "import seaborn as sns\n",
    "sns.barplot(y = 'Word', x = 'count', data = df2wordcount)"
   ]
  },
  {
   "cell_type": "code",
   "execution_count": 23,
   "id": "1a5fbac7",
   "metadata": {},
   "outputs": [
    {
     "data": {
      "text/plain": [
       "Index(['EducationSector', 'Age', 'Perseverance', 'DesireToTakeInitiative',\n",
       "       'Competitiveness', 'SelfReliance', 'StrongNeedToAchieve',\n",
       "       'SelfConfidence', 'GoodPhysicalHealth', 'KeyTraits', 'ReasonsForLack',\n",
       "       'y', 'IndividualProject_No', 'IndividualProject_Yes', 'Gender_Female',\n",
       "       'Gender_Male', 'City_No', 'City_Yes', 'Influenced_No', 'Influenced_Yes',\n",
       "       'MentalDisorder_No', 'MentalDisorder_Yes'],\n",
       "      dtype='object')"
      ]
     },
     "execution_count": 23,
     "metadata": {},
     "output_type": "execute_result"
    }
   ],
   "source": [
    "df_new.columns"
   ]
  },
  {
   "cell_type": "code",
   "execution_count": 24,
   "id": "64e6f2a8",
   "metadata": {},
   "outputs": [],
   "source": [
    "df_new = df_new.drop(\"ReasonsForLack\", axis = 1)"
   ]
  },
  {
   "cell_type": "code",
   "execution_count": 25,
   "id": "fbe62128",
   "metadata": {},
   "outputs": [
    {
     "data": {
      "text/plain": [
       "y                         1.000000\n",
       "Influenced_Yes            0.255204\n",
       "Influenced_No             0.255204\n",
       "IndividualProject_Yes     0.121054\n",
       "IndividualProject_No      0.121054\n",
       "GoodPhysicalHealth        0.108800\n",
       "DesireToTakeInitiative    0.092578\n",
       "SelfConfidence            0.088249\n",
       "SelfReliance              0.082386\n",
       "Gender_Female             0.077813\n",
       "Gender_Male               0.077813\n",
       "StrongNeedToAchieve       0.075438\n",
       "City_No                   0.073973\n",
       "City_Yes                  0.073973\n",
       "KeyTraits                 0.068260\n",
       "Competitiveness           0.028401\n",
       "Perseverance              0.028037\n",
       "Age                       0.018444\n",
       "MentalDisorder_Yes        0.008280\n",
       "MentalDisorder_No         0.008280\n",
       "EducationSector           0.003692\n",
       "Name: y, dtype: float64"
      ]
     },
     "execution_count": 25,
     "metadata": {},
     "output_type": "execute_result"
    }
   ],
   "source": [
    "df_new.corr().abs()['y'].sort_values(ascending = False)"
   ]
  },
  {
   "cell_type": "code",
   "execution_count": 26,
   "id": "57f9bedd",
   "metadata": {},
   "outputs": [
    {
     "data": {
      "text/plain": [
       "0    128\n",
       "1     91\n",
       "Name: y, dtype: int64"
      ]
     },
     "execution_count": 26,
     "metadata": {},
     "output_type": "execute_result"
    }
   ],
   "source": [
    "df_new['y'].value_counts()"
   ]
  },
  {
   "cell_type": "code",
   "execution_count": 27,
   "id": "8380e454",
   "metadata": {},
   "outputs": [],
   "source": [
    "zero  = df_new[df_new['y']==0]\n",
    "one = df_new[df_new['y']==1]\n",
    "from sklearn.utils import resample\n",
    "df_minority_upsampled = resample(one, replace = True, n_samples = 128)\n",
    "df_new = pd.concat([zero, df_minority_upsampled])\n",
    "\n",
    "from sklearn.utils import shuffle\n",
    "df_new = shuffle(df_new)"
   ]
  },
  {
   "cell_type": "code",
   "execution_count": 28,
   "id": "e62741a0",
   "metadata": {},
   "outputs": [
    {
     "data": {
      "text/plain": [
       "0    128\n",
       "1    128\n",
       "Name: y, dtype: int64"
      ]
     },
     "execution_count": 28,
     "metadata": {},
     "output_type": "execute_result"
    }
   ],
   "source": [
    "df_new['y'].value_counts()"
   ]
  },
  {
   "cell_type": "code",
   "execution_count": 29,
   "id": "9492e4d3",
   "metadata": {},
   "outputs": [],
   "source": [
    "X = df_new.drop(['y'], axis =1)\n",
    "Y = df_new['y']"
   ]
  },
  {
   "cell_type": "code",
   "execution_count": 32,
   "id": "2ab9942a",
   "metadata": {},
   "outputs": [],
   "source": [
    "from sklearn.model_selection import train_test_split\n",
    "from xgboost import XGBClassifier\n",
    "from sklearn.metrics import accuracy_score"
   ]
  },
  {
   "cell_type": "code",
   "execution_count": 33,
   "id": "0e241538",
   "metadata": {},
   "outputs": [],
   "source": [
    "X_train, X_test, y_train, y_test = train_test_split(X, Y, test_size = 0.2, random_state = 42)"
   ]
  },
  {
   "cell_type": "code",
   "execution_count": 34,
   "id": "35a54063",
   "metadata": {},
   "outputs": [
    {
     "name": "stderr",
     "output_type": "stream",
     "text": [
      "/home/habib/notebook_env/lib/python3.8/site-packages/xgboost/sklearn.py:1224: UserWarning: The use of label encoder in XGBClassifier is deprecated and will be removed in a future release. To remove this warning, do the following: 1) Pass option use_label_encoder=False when constructing XGBClassifier object; and 2) Encode your labels (y) as integers starting with 0, i.e. 0, 1, 2, ..., [num_class - 1].\n",
      "  warnings.warn(label_encoder_deprecation_msg, UserWarning)\n"
     ]
    },
    {
     "name": "stdout",
     "output_type": "stream",
     "text": [
      "[15:18:49] WARNING: ../src/learner.cc:1115: Starting in XGBoost 1.3.0, the default evaluation metric used with the objective 'binary:logistic' was changed from 'error' to 'logloss'. Explicitly set eval_metric if you'd like to restore the old behavior.\n"
     ]
    }
   ],
   "source": [
    "model = XGBClassifier(learning_rate =0.9, n_estimators = 1500,seed=27)\n",
    "model.fit(X_train, y_train)\n",
    "pred = model.predict(X_test)"
   ]
  },
  {
   "cell_type": "code",
   "execution_count": 35,
   "id": "3013fa02",
   "metadata": {},
   "outputs": [
    {
     "data": {
      "text/plain": [
       "0.8653846153846154"
      ]
     },
     "execution_count": 35,
     "metadata": {},
     "output_type": "execute_result"
    }
   ],
   "source": [
    "accuracy_score(y_test,pred)"
   ]
  },
  {
   "cell_type": "code",
   "execution_count": 36,
   "id": "08f9c30b",
   "metadata": {},
   "outputs": [
    {
     "name": "stdout",
     "output_type": "stream",
     "text": [
      "              precision    recall  f1-score   support\n",
      "\n",
      "           0       1.00      0.73      0.84        26\n",
      "           1       0.79      1.00      0.88        26\n",
      "\n",
      "    accuracy                           0.87        52\n",
      "   macro avg       0.89      0.87      0.86        52\n",
      "weighted avg       0.89      0.87      0.86        52\n",
      "\n"
     ]
    }
   ],
   "source": [
    "from sklearn.metrics import classification_report\n",
    "print(classification_report(y_test, pred))"
   ]
  },
  {
   "cell_type": "code",
   "execution_count": null,
   "id": "6cf10628",
   "metadata": {},
   "outputs": [],
   "source": []
  }
 ],
 "metadata": {
  "kernelspec": {
   "display_name": "Python 3 (ipykernel)",
   "language": "python",
   "name": "python3"
  },
  "language_info": {
   "codemirror_mode": {
    "name": "ipython",
    "version": 3
   },
   "file_extension": ".py",
   "mimetype": "text/x-python",
   "name": "python",
   "nbconvert_exporter": "python",
   "pygments_lexer": "ipython3",
   "version": "3.8.10"
  }
 },
 "nbformat": 4,
 "nbformat_minor": 5
}
